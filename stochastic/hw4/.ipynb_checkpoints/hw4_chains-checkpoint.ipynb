{
 "cells": [
  {
   "cell_type": "code",
   "execution_count": 1,
   "metadata": {},
   "outputs": [],
   "source": [
    "import markov362m as mk"
   ]
  },
  {
   "cell_type": "code",
   "execution_count": 13,
   "metadata": {},
   "outputs": [
    {
     "data": {
      "text/plain": [
       "<markov362m.base.MarkovChain at 0x126b40d90>"
      ]
     },
     "execution_count": 13,
     "metadata": {},
     "output_type": "execute_result"
    }
   ],
   "source": [
    "chain_10 = mk.MarkovChain(title='7.4.10')\n",
    "chain_10"
   ]
  },
  {
   "cell_type": "code",
   "execution_count": 16,
   "metadata": {},
   "outputs": [
    {
     "name": "stdout",
     "output_type": "stream",
     "text": [
      "Basic info for: \"7.4.10\"\n",
      "------------------------\n",
      "\n",
      " - states (5): ['0', '1', '2', '3', '4']\n",
      " \n",
      " - transitions (13): (0 -> 0, 0.8) , (0 -> 1, 0.2) , (1 -> 0, 0.04) , (1 -> 1, 0.77) , (1 -> 2, 0.19) , (2 -> 1, 0.04) , (2 -> 2, 0.77) , (2 -> 3, 0.19) , (3 -> 2, 0.04) , (3 -> 3, 0.77) , (3 -> 4, 0.19) , (4 -> 3, 0.04) , (4 -> 4, 0.96)\n",
      "\n"
     ]
    }
   ],
   "source": [
    "# set state space\n",
    "S_10 = [0, 1, 2, 3, 4]\n",
    "for state in S_10:\n",
    "    chain_10.add_state(str(state))\n",
    "\n",
    "print(chain_10.info())"
   ]
  },
  {
   "cell_type": "code",
   "execution_count": 17,
   "metadata": {},
   "outputs": [
    {
     "name": "stdout",
     "output_type": "stream",
     "text": [
      "Basic info for: \"7.4.10\"\n",
      "------------------------\n",
      "\n",
      " - states (5): ['0', '1', '2', '3', '4']\n",
      " \n",
      " - transitions (13): (0 -> 0, 0.8) , (0 -> 1, 0.2) , (1 -> 0, 0.04) , (1 -> 1, 0.77) , (1 -> 2, 0.19) , (2 -> 1, 0.04) , (2 -> 2, 0.77) , (2 -> 3, 0.19) , (3 -> 2, 0.04) , (3 -> 3, 0.77) , (3 -> 4, 0.19) , (4 -> 3, 0.04) , (4 -> 4, 0.96)\n",
      "\n"
     ]
    }
   ],
   "source": [
    "P_10 = [[80/100, 20/100, 0, 0, 0],\n",
    "     [4/100, 77/100, 19/100, 0, 0],\n",
    "     [0, 4/100, 77/100, 19/100, 0],\n",
    "     [0, 0, 4/100, 77/100, 19/100],\n",
    "     [0, 0, 0, 4/100, 96/100]]\n",
    "\n",
    "for (i, row) in enumerate(P_10):\n",
    "    for (j, prob) in enumerate(row):\n",
    "        if prob is 0:\n",
    "            continue\n",
    "        chain_10.add_transition(str(i), str(j), probability=prob)\n",
    "        \n",
    "print(chain_10.info())"
   ]
  },
  {
   "cell_type": "code",
   "execution_count": 18,
   "metadata": {},
   "outputs": [
    {
     "name": "stdout",
     "output_type": "stream",
     "text": [
      "P-matrix info for: \"7.4.10\"\n",
      "---------------------------\n",
      " - transition matrix: \n",
      "[[0.8  0.2  0.   0.   0.  ]\n",
      " [0.04 0.77 0.19 0.   0.  ]\n",
      " [0.   0.04 0.77 0.19 0.  ]\n",
      " [0.   0.   0.04 0.77 0.19]\n",
      " [0.   0.   0.   0.04 0.96]]\n",
      "\n",
      " - order of states:{0: '0', 1: '1', 2: '2', 3: '3', 4: '4'}\n",
      "\n"
     ]
    }
   ],
   "source": [
    "chain_10.compute()\n",
    "print(chain_10.info_P())"
   ]
  },
  {
   "cell_type": "code",
   "execution_count": 24,
   "metadata": {},
   "outputs": [
    {
     "data": {
      "text/plain": [
       "<markov362m.base.MarkovChain at 0x126a7cd10>"
      ]
     },
     "execution_count": 24,
     "metadata": {},
     "output_type": "execute_result"
    }
   ],
   "source": [
    "chain_11 = mk.MarkovChain(title='7.4.11')\n",
    "chain_11"
   ]
  },
  {
   "cell_type": "code",
   "execution_count": 25,
   "metadata": {},
   "outputs": [
    {
     "name": "stdout",
     "output_type": "stream",
     "text": [
      "Basic info for: \"7.4.11\"\n",
      "------------------------\n",
      "\n",
      " - states (5): ['(2, 0)', '(1, 2)', '(1, 1)', '(0, 2)', '(0, 1)']\n",
      " \n",
      " - transitions (0): \n",
      "\n"
     ]
    }
   ],
   "source": [
    "S_11 = [(2,0), (1,2), (1,1), (0,2), (0,1)]\n",
    "for state in S_11:\n",
    "    chain_11.add_state(str(state))\n",
    "\n",
    "print(chain_11.info())"
   ]
  },
  {
   "cell_type": "code",
   "execution_count": 26,
   "metadata": {},
   "outputs": [
    {
     "name": "stdout",
     "output_type": "stream",
     "text": [
      "Basic info for: \"7.4.11\"\n",
      "------------------------\n",
      "\n",
      " - states (5): ['(2, 0)', '(1, 2)', '(1, 1)', '(0, 2)', '(0, 1)']\n",
      " \n",
      " - transitions (9): ((2, 0) -> (2, 0), 0.64) , ((2, 0) -> (1, 2), 0.32) , ((2, 0) -> (0, 2), 0.04) , ((1, 2) -> (1, 1), 0.8) , ((1, 2) -> (0, 1), 0.2) , ((1, 1) -> (2, 0), 0.8) , ((1, 1) -> (1, 2), 0.2) , ((0, 2) -> (0, 1), 1.0) , ((0, 1) -> (1, 2), 1.0)\n",
      "\n"
     ]
    }
   ],
   "source": [
    "# assume p is 0.2\n",
    "p_11 = 0.2\n",
    "P_11 = [[(1 - p_11)**2, 2 * p_11 * (1 - p_11), 0, p_11**2],\n",
    "        [0, 0, 1 - p_11, 0, p_11],\n",
    "        [1 - p_11, p_11, 0, 0, 0],\n",
    "        [0, 0, 0, 0, 1],\n",
    "        [0, 1, 0, 0, 0]]\n",
    "\n",
    "for (i, row) in enumerate(P_11):\n",
    "    for (j, prob) in enumerate(row):\n",
    "        if prob is 0:\n",
    "            continue\n",
    "        chain_11.add_transition(str(S_11[i]), str(S_11[j]), probability=prob)\n",
    "        \n",
    "print(chain_11.info())"
   ]
  },
  {
   "cell_type": "code",
   "execution_count": 27,
   "metadata": {},
   "outputs": [
    {
     "name": "stdout",
     "output_type": "stream",
     "text": [
      "P-matrix info for: \"7.4.11\"\n",
      "---------------------------\n",
      " - transition matrix: \n",
      "[[0.64 0.32 0.   0.04 0.  ]\n",
      " [0.   0.   0.8  0.   0.2 ]\n",
      " [0.8  0.2  0.   0.   0.  ]\n",
      " [0.   0.   0.   0.   1.  ]\n",
      " [0.   1.   0.   0.   0.  ]]\n",
      "\n",
      " - order of states:{0: '(2, 0)', 1: '(1, 2)', 2: '(1, 1)', 3: '(0, 2)', 4: '(0, 1)'}\n",
      "\n"
     ]
    }
   ],
   "source": [
    "chain_11.compute()\n",
    "print(chain_11.info_P())"
   ]
  },
  {
   "cell_type": "code",
   "execution_count": 28,
   "metadata": {},
   "outputs": [
    {
     "data": {
      "text/plain": [
       "<markov362m.base.MarkovChain at 0x110814f90>"
      ]
     },
     "execution_count": 28,
     "metadata": {},
     "output_type": "execute_result"
    }
   ],
   "source": [
    "chain_12 = mk.MarkovChain(title='7.4.12')\n",
    "chain_12"
   ]
  },
  {
   "cell_type": "code",
   "execution_count": 30,
   "metadata": {},
   "outputs": [
    {
     "name": "stdout",
     "output_type": "stream",
     "text": [
      "Basic info for: \"7.4.12\"\n",
      "------------------------\n",
      "\n",
      " - states (3): [\"(0, 'b')\", \"(1, 'b')\", \"(1, 'a')\"]\n",
      " \n",
      " - transitions (0): \n",
      "\n"
     ]
    }
   ],
   "source": [
    "S_12 = [(0, 'b'), (1, 'b'), (1, 'a')]\n",
    "for state in S_12:\n",
    "    chain_12.add_state(str(state))\n",
    "\n",
    "print(chain_12.info())"
   ]
  },
  {
   "cell_type": "code",
   "execution_count": 31,
   "metadata": {},
   "outputs": [
    {
     "name": "stdout",
     "output_type": "stream",
     "text": [
      "Basic info for: \"7.4.12\"\n",
      "------------------------\n",
      "\n",
      " - states (3): [\"(0, 'b')\", \"(1, 'b')\", \"(1, 'a')\"]\n",
      " \n",
      " - transitions (9): ((0, 'b') -> (0, 'b'), 0.33333334) , ((0, 'b') -> (1, 'b'), 0.33333334) , ((0, 'b') -> (1, 'a'), 0.33333334) , ((1, 'b') -> (0, 'b'), 0.33333334) , ((1, 'b') -> (1, 'b'), 0.33333334) , ((1, 'b') -> (1, 'a'), 0.33333334) , ((1, 'a') -> (0, 'b'), 0.6666667) , ((1, 'a') -> (1, 'b'), 0.16666667) , ((1, 'a') -> (1, 'a'), 0.16666667)\n",
      "\n"
     ]
    }
   ],
   "source": [
    "P_12 = [[1/3, 1/3, 1/3],\n",
    "        [1/3, 1/3, 1/3],\n",
    "        [2/3, 1/6, 1/6]]\n",
    "\n",
    "for (i, row) in enumerate(P_12):\n",
    "    for (j, prob) in enumerate(row):\n",
    "        if prob is 0:\n",
    "            continue\n",
    "        chain_12.add_transition(str(S_12[i]), str(S_12[j]), probability=prob)\n",
    "        \n",
    "print(chain_12.info())"
   ]
  },
  {
   "cell_type": "code",
   "execution_count": 32,
   "metadata": {},
   "outputs": [
    {
     "name": "stdout",
     "output_type": "stream",
     "text": [
      "P-matrix info for: \"7.4.12\"\n",
      "---------------------------\n",
      " - transition matrix: \n",
      "[[0.333 0.333 0.333]\n",
      " [0.333 0.333 0.333]\n",
      " [0.667 0.167 0.167]]\n",
      "\n",
      " - order of states:{0: \"(0, 'b')\", 1: \"(1, 'b')\", 2: \"(1, 'a')\"}\n",
      "\n"
     ]
    }
   ],
   "source": [
    "chain_12.compute()\n",
    "print(chain_12.info_P())"
   ]
  },
  {
   "cell_type": "code",
   "execution_count": 38,
   "metadata": {},
   "outputs": [
    {
     "data": {
      "text/plain": [
       "<markov362m.base.MarkovChain at 0x126b99350>"
      ]
     },
     "execution_count": 38,
     "metadata": {},
     "output_type": "execute_result"
    }
   ],
   "source": [
    "chain_13 = mk.MarkovChain(title='7.4.13')\n",
    "chain_13"
   ]
  },
  {
   "cell_type": "code",
   "execution_count": 39,
   "metadata": {},
   "outputs": [
    {
     "data": {
      "text/plain": [
       "10"
      ]
     },
     "execution_count": 39,
     "metadata": {},
     "output_type": "execute_result"
    }
   ],
   "source": [
    "S_13 = [(2, 2, 'N'), (2, 1, 'B'), (1, 1, 'R'), (0, 1, 'R'), (1, 0, 'B'), (0, 0, 'N'), (1, 2, 'R'), (1, 1, 'B'), (0, 2, 'R'), (0, 1, 'B')]\n",
    "len(S_13)"
   ]
  },
  {
   "cell_type": "code",
   "execution_count": 40,
   "metadata": {},
   "outputs": [
    {
     "name": "stdout",
     "output_type": "stream",
     "text": [
      "Basic info for: \"7.4.13\"\n",
      "------------------------\n",
      "\n",
      " - states (10): [\"(2, 2, 'N')\", \"(2, 1, 'B')\", \"(1, 1, 'R')\", \"(0, 1, 'R')\", \"(1, 0, 'B')\", \"(0, 0, 'N')\", \"(1, 2, 'R')\", \"(1, 1, 'B')\", \"(0, 2, 'R')\", \"(0, 1, 'B')\"]\n",
      " \n",
      " - transitions (0): \n",
      "\n"
     ]
    }
   ],
   "source": [
    "for state in S_13:\n",
    "    chain_13.add_state(str(state))\n",
    "    \n",
    "print(chain_13.info())"
   ]
  },
  {
   "cell_type": "code",
   "execution_count": 41,
   "metadata": {},
   "outputs": [
    {
     "name": "stdout",
     "output_type": "stream",
     "text": [
      "Basic info for: \"7.4.13\"\n",
      "------------------------\n",
      "\n",
      " - states (10): [\"(2, 2, 'N')\", \"(2, 1, 'B')\", \"(1, 1, 'R')\", \"(0, 1, 'R')\", \"(1, 0, 'B')\", \"(0, 0, 'N')\", \"(1, 2, 'R')\", \"(1, 1, 'B')\", \"(0, 2, 'R')\", \"(0, 1, 'B')\"]\n",
      " \n",
      " - transitions (15): ((2, 2, 'N') -> (2, 1, 'B'), 0.5) , ((2, 2, 'N') -> (1, 2, 'R'), 0.5) , ((2, 1, 'B') -> (2, 1, 'B'), 0.33333334) , ((2, 1, 'B') -> (1, 1, 'R'), 0.6666667) , ((1, 1, 'R') -> (0, 1, 'R'), 0.5) , ((1, 1, 'R') -> (1, 0, 'B'), 0.5) , ((0, 1, 'R') -> (0, 0, 'N'), 1.0) , ((1, 0, 'B') -> (0, 0, 'N'), 1.0) , ((0, 0, 'N') -> (0, 0, 'N'), 1.0) , ((1, 2, 'R') -> (1, 1, 'B'), 0.6666667) , ((1, 2, 'R') -> (0, 2, 'R'), 0.33333334) , ((1, 1, 'B') -> (1, 1, 'B'), 0.5) , ((1, 1, 'B') -> (0, 1, 'R'), 0.5) , ((0, 2, 'R') -> (0, 1, 'B'), 1.0) , ((0, 1, 'B') -> (0, 1, 'B'), 1.0)\n",
      "\n"
     ]
    }
   ],
   "source": [
    "S = [str(x) for x in S_13]\n",
    "\n",
    "# starting at S[0]\n",
    "chain_13.add_transition(S[0], S[1], probability=1/2)\n",
    "chain_13.add_transition(S[0], S[6], probability=1/2)\n",
    "\n",
    "# starting at S[1]\n",
    "chain_13.add_transition(S[1], S[1], probability=1/3)\n",
    "chain_13.add_transition(S[1], S[2], probability=2/3)\n",
    "\n",
    "# starting at S[2]\n",
    "chain_13.add_transition(S[2], S[3], probability=1/2)\n",
    "chain_13.add_transition(S[2], S[4], probability=1/2)\n",
    "\n",
    "# starting at S[3]\n",
    "chain_13.add_transition(S[3], S[5])\n",
    "\n",
    "# starting at S[4]\n",
    "chain_13.add_transition(S[4], S[5])\n",
    "\n",
    "# starting at S[5]\n",
    "chain_13.add_transition(S[5], S[5])\n",
    "\n",
    "# starting at S[6]\n",
    "chain_13.add_transition(S[6], S[7], probability=2/3)\n",
    "chain_13.add_transition(S[6], S[8], probability=1/3)\n",
    "\n",
    "# starting at S[7]\n",
    "chain_13.add_transition(S[7], S[7], probability=1/2)\n",
    "chain_13.add_transition(S[7], S[3], probability=1/2)\n",
    "\n",
    "# starting at S[8]\n",
    "chain_13.add_transition(S[8], S[9])\n",
    "\n",
    "# starting at S[9]\n",
    "chain_13.add_transition(S[9], S[9])\n",
    "\n",
    "print(chain_13.info())"
   ]
  },
  {
   "cell_type": "code",
   "execution_count": 42,
   "metadata": {},
   "outputs": [
    {
     "name": "stdout",
     "output_type": "stream",
     "text": [
      "P-matrix info for: \"7.4.13\"\n",
      "---------------------------\n",
      " - transition matrix: \n",
      "[[0.    0.5   0.    0.    0.    0.    0.5   0.    0.    0.   ]\n",
      " [0.    0.333 0.667 0.    0.    0.    0.    0.    0.    0.   ]\n",
      " [0.    0.    0.    0.5   0.5   0.    0.    0.    0.    0.   ]\n",
      " [0.    0.    0.    0.    0.    1.    0.    0.    0.    0.   ]\n",
      " [0.    0.    0.    0.    0.    1.    0.    0.    0.    0.   ]\n",
      " [0.    0.    0.    0.    0.    1.    0.    0.    0.    0.   ]\n",
      " [0.    0.    0.    0.    0.    0.    0.    0.667 0.333 0.   ]\n",
      " [0.    0.    0.    0.5   0.    0.    0.    0.5   0.    0.   ]\n",
      " [0.    0.    0.    0.    0.    0.    0.    0.    0.    1.   ]\n",
      " [0.    0.    0.    0.    0.    0.    0.    0.    0.    1.   ]]\n",
      "\n",
      " - order of states:{0: \"(2, 2, 'N')\", 1: \"(2, 1, 'B')\", 2: \"(1, 1, 'R')\", 3: \"(0, 1, 'R')\", 4: \"(1, 0, 'B')\", 5: \"(0, 0, 'N')\", 6: \"(1, 2, 'R')\", 7: \"(1, 1, 'B')\", 8: \"(0, 2, 'R')\", 9: \"(0, 1, 'B')\"}\n",
      "\n"
     ]
    }
   ],
   "source": [
    "chain_13.compute()\n",
    "print(chain_13.info_P())"
   ]
  },
  {
   "cell_type": "code",
   "execution_count": null,
   "metadata": {},
   "outputs": [],
   "source": []
  }
 ],
 "metadata": {
  "kernelspec": {
   "display_name": "Python 3",
   "language": "python",
   "name": "python3"
  },
  "language_info": {
   "codemirror_mode": {
    "name": "ipython",
    "version": 3
   },
   "file_extension": ".py",
   "mimetype": "text/x-python",
   "name": "python",
   "nbconvert_exporter": "python",
   "pygments_lexer": "ipython3",
   "version": "3.7.5"
  }
 },
 "nbformat": 4,
 "nbformat_minor": 4
}
