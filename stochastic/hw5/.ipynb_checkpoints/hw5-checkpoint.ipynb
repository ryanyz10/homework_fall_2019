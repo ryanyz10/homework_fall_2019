{
 "cells": [
  {
   "cell_type": "code",
   "execution_count": 2,
   "metadata": {},
   "outputs": [],
   "source": [
    "import markov362m as mk"
   ]
  },
  {
   "cell_type": "code",
   "execution_count": 3,
   "metadata": {},
   "outputs": [
    {
     "data": {
      "text/plain": [
       "<markov362m.base.MarkovChain at 0x11f558450>"
      ]
     },
     "execution_count": 3,
     "metadata": {},
     "output_type": "execute_result"
    }
   ],
   "source": [
    "chain = mk.MarkovChain('airline')\n",
    "chain"
   ]
  },
  {
   "cell_type": "code",
   "execution_count": 4,
   "metadata": {},
   "outputs": [
    {
     "name": "stdout",
     "output_type": "stream",
     "text": [
      "Basic info for: \"airline\"\n",
      "-------------------------\n",
      "\n",
      " - states (5): ['(2, 0)', '(1, 2)', '(1, 1)', '(0, 2)', '(0, 1)']\n",
      " \n",
      " - transitions (0): \n",
      "\n"
     ]
    }
   ],
   "source": [
    "S = [(2,0), (1,2), (1,1), (0,2), (0,1)]\n",
    "for state in S:\n",
    "    chain.add_state(str(state))\n",
    "\n",
    "print(chain.info())"
   ]
  },
  {
   "cell_type": "code",
   "execution_count": 5,
   "metadata": {},
   "outputs": [
    {
     "name": "stdout",
     "output_type": "stream",
     "text": [
      "Basic info for: \"airline\"\n",
      "-------------------------\n",
      "\n",
      " - states (5): ['(2, 0)', '(1, 2)', '(1, 1)', '(0, 2)', '(0, 1)']\n",
      " \n",
      " - transitions (9): ((2, 0) -> (2, 0), 0.49) , ((2, 0) -> (1, 2), 0.42) , ((2, 0) -> (0, 2), 0.09) , ((1, 2) -> (1, 1), 0.7) , ((1, 2) -> (0, 1), 0.3) , ((1, 1) -> (2, 0), 0.7) , ((1, 1) -> (1, 2), 0.3) , ((0, 2) -> (0, 2), 1.0) , ((0, 1) -> (0, 1), 1.0)\n",
      "\n"
     ]
    }
   ],
   "source": [
    "p = 0.3\n",
    "P = [[(1 - p)**2, 2 * p * (1 - p), 0, p**2],\n",
    "        [0, 0, 1 - p, 0, p],\n",
    "        [1 - p, p, 0, 0, 0],\n",
    "        [0, 0, 0, 1, 0],\n",
    "        [0, 0, 0, 0, 1]]\n",
    "\n",
    "for (i, row) in enumerate(P):\n",
    "    for (j, prob) in enumerate(row):\n",
    "        if prob is 0:\n",
    "            continue\n",
    "        chain.add_transition(str(S[i]), str(S[j]), probability=prob)\n",
    "        \n",
    "print(chain.info())"
   ]
  },
  {
   "cell_type": "code",
   "execution_count": 6,
   "metadata": {},
   "outputs": [
    {
     "name": "stdout",
     "output_type": "stream",
     "text": [
      "P-matrix info for: \"airline\"\n",
      "----------------------------\n",
      " - transition matrix: \n",
      "[[0.49 0.42 0.   0.09 0.  ]\n",
      " [0.   0.   0.7  0.   0.3 ]\n",
      " [0.7  0.3  0.   0.   0.  ]\n",
      " [0.   0.   0.   1.   0.  ]\n",
      " [0.   0.   0.   0.   1.  ]]\n",
      "\n",
      " - order of states:{0: '(2, 0)', 1: '(1, 2)', 2: '(1, 1)', 3: '(0, 2)', 4: '(0, 1)'}\n",
      "\n"
     ]
    }
   ],
   "source": [
    "chain.compute()\n",
    "print(chain.info_P())"
   ]
  },
  {
   "cell_type": "code",
   "execution_count": 7,
   "metadata": {},
   "outputs": [
    {
     "name": "stdout",
     "output_type": "stream",
     "text": [
      "QRF info for: \"airline\"\n",
      "-----------------------\n",
      "\n",
      " - matrix Q (T x T): \n",
      "   [[0.49 0.42 0.  ]\n",
      " [0.   0.   0.7 ]\n",
      " [0.7  0.3  0.  ]]\n",
      "\n",
      " - matrix R (T x C): \n",
      "   [[0.09 0.  ]\n",
      " [0.   0.3 ]\n",
      " [0.   0.  ]]\n",
      "\n",
      " - fundamental matrix F=(I-Q)^-1 (T x T): \n",
      "   [[4.008 2.131 1.492]\n",
      " [2.486 2.588 1.811]\n",
      " [3.551 2.268 2.588]]\n",
      "\n",
      " - order of T-states: {0: '(2, 0)', 1: '(1, 2)', 2: '(1, 1)'}\n",
      "\n",
      " - order of C-states: {0: '(0, 2)', 1: '(0, 1)'}\n"
     ]
    }
   ],
   "source": [
    "print(chain.info_QRF())"
   ]
  },
  {
   "cell_type": "code",
   "execution_count": 8,
   "metadata": {},
   "outputs": [
    {
     "data": {
      "text/plain": [
       "<markov362m.base.MarkovChain at 0x11f566fd0>"
      ]
     },
     "execution_count": 8,
     "metadata": {},
     "output_type": "execute_result"
    }
   ],
   "source": [
    "m = mk.MarkovChain('basil')\n",
    "m"
   ]
  },
  {
   "cell_type": "code",
   "execution_count": 9,
   "metadata": {},
   "outputs": [
    {
     "data": {
      "text/plain": [
       "[1, 2, 3, 4, 5, 'S', 'F']"
      ]
     },
     "execution_count": 9,
     "metadata": {},
     "output_type": "execute_result"
    }
   ],
   "source": [
    "S = [i for i in range(1, 6)] + ['F', 'S']\n",
    "S"
   ]
  },
  {
   "cell_type": "code",
   "execution_count": 10,
   "metadata": {},
   "outputs": [
    {
     "name": "stdout",
     "output_type": "stream",
     "text": [
      "Basic info for: \"basil\"\n",
      "-----------------------\n",
      "\n",
      " - states (7): ['1', '2', '3', '4', '5', 'S', 'F']\n",
      " \n",
      " - transitions (0): \n",
      "\n"
     ]
    }
   ],
   "source": [
    "for state in S:\n",
    "    m.add_state(str(state))\n",
    "\n",
    "print(m.info())"
   ]
  },
  {
   "cell_type": "code",
   "execution_count": 11,
   "metadata": {},
   "outputs": [
    {
     "name": "stdout",
     "output_type": "stream",
     "text": [
      "Basic info for: \"basil\"\n",
      "-----------------------\n",
      "\n",
      " - states (7): ['1', '2', '3', '4', '5', 'S', 'F']\n",
      " \n",
      " - transitions (15): (1 -> 2, 0.5) , (1 -> 3, 0.5) , (2 -> 1, 0.33333334) , (2 -> 4, 0.33333334) , (2 -> S, 0.33333334) , (3 -> 1, 0.33333334) , (3 -> 4, 0.33333334) , (3 -> F, 0.33333334) , (4 -> 2, 0.33333334) , (4 -> 3, 0.33333334) , (4 -> 5, 0.33333334) , (5 -> 4, 0.5) , (5 -> S, 0.5) , (S -> S, 1.0) , (F -> F, 1.0)\n",
      "\n"
     ]
    }
   ],
   "source": [
    "P = [[0, 1/2, 1/2, 0, 0, 0, 0],\n",
    "     [1/3, 0, 0, 1/3, 0, 1/3, 0],\n",
    "     [1/3, 0, 0, 1/3, 0, 0, 1/3],\n",
    "     [0, 1/3, 1/3, 0, 1/3, 0, 0],\n",
    "     [0, 0, 0, 1/2, 0, 1/2, 0],\n",
    "     [0, 0, 0, 0, 0, 1, 0],\n",
    "     [0, 0, 0, 0, 0, 0, 1]]\n",
    "\n",
    "for (i, row) in enumerate(P):\n",
    "    for (j, prob) in enumerate(row):\n",
    "        if prob is 0:\n",
    "            continue\n",
    "        m.add_transition(str(S[i]), str(S[j]), probability=prob)\n",
    "        \n",
    "print(m.info())"
   ]
  },
  {
   "cell_type": "code",
   "execution_count": null,
   "metadata": {},
   "outputs": [],
   "source": []
  }
 ],
 "metadata": {
  "kernelspec": {
   "display_name": "Python 3",
   "language": "python",
   "name": "python3"
  },
  "language_info": {
   "codemirror_mode": {
    "name": "ipython",
    "version": 3
   },
   "file_extension": ".py",
   "mimetype": "text/x-python",
   "name": "python",
   "nbconvert_exporter": "python",
   "pygments_lexer": "ipython3",
   "version": "3.7.5"
  }
 },
 "nbformat": 4,
 "nbformat_minor": 4
}
